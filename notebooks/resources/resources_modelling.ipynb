{
 "cells": [
  {
   "cell_type": "code",
   "execution_count": 8,
   "id": "2b6586f5",
   "metadata": {},
   "outputs": [],
   "source": [
    "# imports \n",
    "import pandas as pd\n",
    "import numpy as np\n",
    "import matplotlib.pyplot as plt\n",
    "import seaborn as sns\n",
    "import sklearn as sk\n",
    "\n",
    "from sklearn.preprocessing import StandardScaler\n",
    "from sklearn.model_selection import train_test_split, RandomizedSearchCV\n",
    "from xgboost import XGBRegressor\n",
    "from scipy.stats import uniform, randint\n",
    "from sklearn.metrics import root_mean_squared_error\n",
    "from sklearn.linear_model import LinearRegression\n",
    "from sklearn.linear_model import RidgeCV\n",
    "from sklearn.ensemble import RandomForestRegressor\n"
   ]
  },
  {
   "cell_type": "markdown",
   "id": "58cf8715",
   "metadata": {},
   "source": [
    "## INTRODUCTION ##"
   ]
  },
  {
   "cell_type": "markdown",
   "id": "711fbbdd",
   "metadata": {},
   "source": [
    "This notebook is focused on creating a prediction of resources (fire vehicles and personnel) using XGBoost model. The data used to train this model comes from the notebook resource_data_preprocessing.ipynb and is already preprocessed. The dataset contains basic information about past wildfires and resources utilized in Greece between the years 2013-2024. A brief overview of the actions taken in the current notebook:\n",
    "\n",
    "- data correlation\n",
    "- data standarization and data split\n",
    "- baseline model\n",
    "- XGBoost model with hyperparameters tuning\n",
    "- best model selection and predictions"
   ]
  },
  {
   "cell_type": "code",
   "execution_count": 2,
   "id": "aa9ce59c",
   "metadata": {},
   "outputs": [
    {
     "data": {
      "text/html": [
       "<div>\n",
       "<style scoped>\n",
       "    .dataframe tbody tr th:only-of-type {\n",
       "        vertical-align: middle;\n",
       "    }\n",
       "\n",
       "    .dataframe tbody tr th {\n",
       "        vertical-align: top;\n",
       "    }\n",
       "\n",
       "    .dataframe thead th {\n",
       "        text-align: right;\n",
       "    }\n",
       "</style>\n",
       "<table border=\"1\" class=\"dataframe\">\n",
       "  <thead>\n",
       "    <tr style=\"text-align: right;\">\n",
       "      <th></th>\n",
       "      <th>Region</th>\n",
       "      <th>Fire Trucks</th>\n",
       "      <th>Firefighting Personnel</th>\n",
       "      <th>Year</th>\n",
       "      <th>Month</th>\n",
       "      <th>Day of the Week</th>\n",
       "      <th>Severity</th>\n",
       "    </tr>\n",
       "  </thead>\n",
       "  <tbody>\n",
       "    <tr>\n",
       "      <th>0</th>\n",
       "      <td>0</td>\n",
       "      <td>8.0</td>\n",
       "      <td>35.0</td>\n",
       "      <td>0</td>\n",
       "      <td>4</td>\n",
       "      <td>0</td>\n",
       "      <td>2</td>\n",
       "    </tr>\n",
       "    <tr>\n",
       "      <th>1</th>\n",
       "      <td>0</td>\n",
       "      <td>3.0</td>\n",
       "      <td>12.0</td>\n",
       "      <td>0</td>\n",
       "      <td>4</td>\n",
       "      <td>1</td>\n",
       "      <td>0</td>\n",
       "    </tr>\n",
       "    <tr>\n",
       "      <th>2</th>\n",
       "      <td>0</td>\n",
       "      <td>5.0</td>\n",
       "      <td>13.0</td>\n",
       "      <td>0</td>\n",
       "      <td>5</td>\n",
       "      <td>4</td>\n",
       "      <td>1</td>\n",
       "    </tr>\n",
       "    <tr>\n",
       "      <th>3</th>\n",
       "      <td>0</td>\n",
       "      <td>2.0</td>\n",
       "      <td>9.0</td>\n",
       "      <td>0</td>\n",
       "      <td>5</td>\n",
       "      <td>4</td>\n",
       "      <td>1</td>\n",
       "    </tr>\n",
       "    <tr>\n",
       "      <th>4</th>\n",
       "      <td>0</td>\n",
       "      <td>5.0</td>\n",
       "      <td>13.0</td>\n",
       "      <td>0</td>\n",
       "      <td>6</td>\n",
       "      <td>0</td>\n",
       "      <td>2</td>\n",
       "    </tr>\n",
       "    <tr>\n",
       "      <th>...</th>\n",
       "      <td>...</td>\n",
       "      <td>...</td>\n",
       "      <td>...</td>\n",
       "      <td>...</td>\n",
       "      <td>...</td>\n",
       "      <td>...</td>\n",
       "      <td>...</td>\n",
       "    </tr>\n",
       "    <tr>\n",
       "      <th>112317</th>\n",
       "      <td>4</td>\n",
       "      <td>3.0</td>\n",
       "      <td>6.0</td>\n",
       "      <td>11</td>\n",
       "      <td>10</td>\n",
       "      <td>0</td>\n",
       "      <td>0</td>\n",
       "    </tr>\n",
       "    <tr>\n",
       "      <th>112318</th>\n",
       "      <td>4</td>\n",
       "      <td>10.0</td>\n",
       "      <td>20.0</td>\n",
       "      <td>11</td>\n",
       "      <td>10</td>\n",
       "      <td>5</td>\n",
       "      <td>1</td>\n",
       "    </tr>\n",
       "    <tr>\n",
       "      <th>112319</th>\n",
       "      <td>4</td>\n",
       "      <td>1.0</td>\n",
       "      <td>2.0</td>\n",
       "      <td>11</td>\n",
       "      <td>11</td>\n",
       "      <td>5</td>\n",
       "      <td>0</td>\n",
       "    </tr>\n",
       "    <tr>\n",
       "      <th>112320</th>\n",
       "      <td>4</td>\n",
       "      <td>1.0</td>\n",
       "      <td>2.0</td>\n",
       "      <td>11</td>\n",
       "      <td>2</td>\n",
       "      <td>3</td>\n",
       "      <td>0</td>\n",
       "    </tr>\n",
       "    <tr>\n",
       "      <th>112321</th>\n",
       "      <td>4</td>\n",
       "      <td>17.0</td>\n",
       "      <td>51.0</td>\n",
       "      <td>11</td>\n",
       "      <td>2</td>\n",
       "      <td>5</td>\n",
       "      <td>2</td>\n",
       "    </tr>\n",
       "  </tbody>\n",
       "</table>\n",
       "<p>112322 rows × 7 columns</p>\n",
       "</div>"
      ],
      "text/plain": [
       "        Region  Fire Trucks  Firefighting Personnel  Year  Month  \\\n",
       "0            0          8.0                    35.0     0      4   \n",
       "1            0          3.0                    12.0     0      4   \n",
       "2            0          5.0                    13.0     0      5   \n",
       "3            0          2.0                     9.0     0      5   \n",
       "4            0          5.0                    13.0     0      6   \n",
       "...        ...          ...                     ...   ...    ...   \n",
       "112317       4          3.0                     6.0    11     10   \n",
       "112318       4         10.0                    20.0    11     10   \n",
       "112319       4          1.0                     2.0    11     11   \n",
       "112320       4          1.0                     2.0    11      2   \n",
       "112321       4         17.0                    51.0    11      2   \n",
       "\n",
       "        Day of the Week  Severity  \n",
       "0                     0         2  \n",
       "1                     1         0  \n",
       "2                     4         1  \n",
       "3                     4         1  \n",
       "4                     0         2  \n",
       "...                 ...       ...  \n",
       "112317                0         0  \n",
       "112318                5         1  \n",
       "112319                5         0  \n",
       "112320                3         0  \n",
       "112321                5         2  \n",
       "\n",
       "[112322 rows x 7 columns]"
      ]
     },
     "execution_count": 2,
     "metadata": {},
     "output_type": "execute_result"
    }
   ],
   "source": [
    "# read data\n",
    "df = pd.read_csv('../../data/resources/Greece_wildfire_resources_2013_2024.csv')\n",
    "df"
   ]
  },
  {
   "cell_type": "markdown",
   "id": "87afdcf3",
   "metadata": {},
   "source": [
    "### Data correlation"
   ]
  },
  {
   "cell_type": "code",
   "execution_count": 3,
   "id": "4c768ba1",
   "metadata": {},
   "outputs": [
    {
     "data": {
      "image/png": "[encoded data removed]",
      "text/plain": [
       "<Figure size 640x480 with 2 Axes>"
      ]
     },
     "metadata": {},
     "output_type": "display_data"
    }
   ],
   "source": [
    "# correlation matrix\n",
    "sns.heatmap(df.corr(), annot=True, fmt=\".2f\", cmap=\"coolwarm\")\n",
    "plt.title(\"Correlation Matrix\")\n",
    "plt.show()"
   ]
  },
  {
   "cell_type": "markdown",
   "id": "1252a3e6",
   "metadata": {},
   "source": [
    "The heatmap above shows that most features are weakly correlated to each other. Even though some correlation can be observed between Fire Trucks, Firefighting personnel and Severity, XGBoost handles well correlated data, so we can continue with further modelling. \n",
    "\n",
    "https://xgboosting.com/xgboost-robust-to-correlated-input-features-multi-collinearity/ "
   ]
  },
  {
   "cell_type": "markdown",
   "id": "7044a8e5",
   "metadata": {},
   "source": [
    "### Data split and standarization"
   ]
  },
  {
   "cell_type": "code",
   "execution_count": 4,
   "id": "adc15387",
   "metadata": {},
   "outputs": [],
   "source": [
    "y = df[['Fire Trucks', 'Firefighting Personnel']]\n",
    "X = df[['Region', 'Year', 'Month', 'Day of the Week', 'Severity']]"
   ]
  },
  {
   "cell_type": "code",
   "execution_count": 5,
   "id": "dcd5ea71",
   "metadata": {},
   "outputs": [],
   "source": [
    "# standarization, for interpretability we scale only the features\n",
    "scaler = StandardScaler()\n",
    "X_scaled = scaler.fit_transform(X)\n",
    "X_scaled = pd.DataFrame(X_scaled, columns=X.columns)"
   ]
  },
  {
   "cell_type": "code",
   "execution_count": 6,
   "id": "ccbe908a",
   "metadata": {},
   "outputs": [],
   "source": [
    "# data split, test size = 0.3\n",
    "X_train, X_test, y_train, y_test = sk.model_selection.train_test_split(X_scaled, y, test_size=0.3, shuffle=True, random_state=42)"
   ]
  },
  {
   "cell_type": "markdown",
   "id": "13b200ff",
   "metadata": {},
   "source": [
    "### Baseline model\n",
    "\n",
    "For the baseline model a linear regression was selected. Additionally, several models were implemented to see how they perform and make an informed decision about further modelling. The models were implemented with very few 'default' parameters. The metric used is Root Mean Squared Error, as it well indicates the performance of a regression model."
   ]
  },
  {
   "cell_type": "code",
   "execution_count": 9,
   "id": "3dc2c351",
   "metadata": {},
   "outputs": [
    {
     "name": "stdout",
     "output_type": "stream",
     "text": [
      "Root Mean Squared Error: 14.929002915765736\n"
     ]
    }
   ],
   "source": [
    "# linear regression\n",
    "linregr = LinearRegression()\n",
    "linregr.fit(X_train, y_train)\n",
    "y_pred = linregr.predict(X_test)\n",
    "rmse = root_mean_squared_error(y_test, y_pred)\n",
    "print(\"Root Mean Squared Error:\", rmse)\n"
   ]
  },
  {
   "cell_type": "code",
   "execution_count": 10,
   "id": "e3c4a1ec",
   "metadata": {},
   "outputs": [
    {
     "name": "stdout",
     "output_type": "stream",
     "text": [
      "Root Mean Squared Error: 14.929020145567506\n"
     ]
    }
   ],
   "source": [
    "# ridge regression\n",
    "ridge = RidgeCV(alphas=[1e-3, 1e-2, 1e-1, 1e0, 1e1, 1e2, 1e3])\n",
    "ridge.fit(X_train, y_train)\n",
    "y_pred_ridge = ridge.predict(X_test)\n",
    "rmse_ridge = root_mean_squared_error(y_test, y_pred_ridge)\n",
    "print(\"Root Mean Squared Error:\", rmse_ridge)"
   ]
  },
  {
   "cell_type": "code",
   "execution_count": 11,
   "id": "ef3156c1",
   "metadata": {},
   "outputs": [
    {
     "name": "stdout",
     "output_type": "stream",
     "text": [
      "Root Mean Squared Error: 14.78239771525729\n"
     ]
    }
   ],
   "source": [
    "# random forest\n",
    "rf = RandomForestRegressor(n_estimators=100, random_state=42)\n",
    "rf.fit(X_train, y_train[['Fire Trucks', 'Firefighting Personnel']])\n",
    "y_pred_rf = rf.predict(X_test)\n",
    "rmse_rf = root_mean_squared_error(y_test[['Fire Trucks', 'Firefighting Personnel']], y_pred_rf)\n",
    "print(\"Root Mean Squared Error:\", rmse_rf)"
   ]
  },
  {
   "cell_type": "code",
   "execution_count": 12,
   "id": "cc0e351c",
   "metadata": {},
   "outputs": [
    {
     "name": "stdout",
     "output_type": "stream",
     "text": [
      "Root Mean Squared Error (XGBoost): 14.483978271484375\n"
     ]
    }
   ],
   "source": [
    "# xgboost\n",
    "xgb = XGBRegressor(n_estimators=50, random_state=42)\n",
    "xgb.fit(X_train, y_train[['Fire Trucks', 'Firefighting Personnel']])\n",
    "y_pred_xgb = xgb.predict(X_test)\n",
    "rmse_xgb = root_mean_squared_error(y_test[['Fire Trucks', 'Firefighting Personnel']], y_pred_xgb)\n",
    "print(\"Root Mean Squared Error (XGBoost):\", rmse_xgb)"
   ]
  },
  {
   "cell_type": "markdown",
   "id": "28167d0f",
   "metadata": {},
   "source": [
    "The performance of the model improved very slightly with every model, ending up with the best score for the XGBoost. In the next steps we we will tune the parameters of this model to obtain better results."
   ]
  },
  {
   "cell_type": "markdown",
   "id": "416d42d1",
   "metadata": {},
   "source": [
    "## XGBoost model\n",
    "\n",
    "### Parameter tuning\n",
    "\n",
    "The tuning of XGBoost parameters was conducted using Randomized Search, as it is very efficient. The values of parameters are chosen based on the observations and previous experiments with the model.\n"
   ]
  },
  {
   "cell_type": "code",
   "execution_count": 13,
   "id": "e12f1bc2",
   "metadata": {},
   "outputs": [],
   "source": [
    "# parameters for random search\n",
    "param_dist = {\n",
    "    'max_depth': [3, 5, 7, 9],\n",
    "    'min_child_weight': [3, 5, 7, 9],\n",
    "    'learning_rate': [0.05, 0.1],\n",
    "    'n_estimators': randint(100, 400),\n",
    "    'subsample': uniform(0.6, 0.4),\n",
    "    'colsample_bytree': uniform(0.6, 0.4),\n",
    "    'gamma': uniform(0, 0.5),\n",
    "    'reg_alpha': uniform(0, 1),\n",
    "    'reg_lambda': uniform(1, 4)\n",
    "}"
   ]
  },
  {
   "cell_type": "code",
   "execution_count": 14,
   "id": "cd566098",
   "metadata": {},
   "outputs": [
    {
     "name": "stdout",
     "output_type": "stream",
     "text": [
      "Best parameters found:  {'colsample_bytree': np.float64(0.6186662652854461), 'gamma': np.float64(0.4868777594207296), 'learning_rate': 0.05, 'max_depth': 5, 'min_child_weight': 5, 'n_estimators': 274, 'reg_alpha': np.float64(0.6183860093330873), 'reg_lambda': np.float64(2.529847965068651), 'subsample': np.float64(0.9932923543227152)}\n",
      "Best RMSE:  10.08288516998291\n"
     ]
    }
   ],
   "source": [
    "# random search\n",
    "model = XGBRegressor(random_state=42)\n",
    "random_search = RandomizedSearchCV(estimator=model, param_distributions=param_dist, n_iter=30, scoring= 'neg_root_mean_squared_error', cv=5, n_jobs=-1, random_state=42)\n",
    "random_search.fit(X_train, y_train)\n",
    "\n",
    "print(\"Best parameters found: \", random_search.best_params_)\n",
    "print(\"Best RMSE: \", -random_search.best_score_)"
   ]
  },
  {
   "cell_type": "markdown",
   "id": "2dcc6c7a",
   "metadata": {},
   "source": [
    "### The prediction"
   ]
  },
  {
   "cell_type": "code",
   "execution_count": 15,
   "id": "63c6f6af",
   "metadata": {},
   "outputs": [
    {
     "data": {
      "text/html": [
       "<div>\n",
       "<style scoped>\n",
       "    .dataframe tbody tr th:only-of-type {\n",
       "        vertical-align: middle;\n",
       "    }\n",
       "\n",
       "    .dataframe tbody tr th {\n",
       "        vertical-align: top;\n",
       "    }\n",
       "\n",
       "    .dataframe thead th {\n",
       "        text-align: right;\n",
       "    }\n",
       "</style>\n",
       "<table border=\"1\" class=\"dataframe\">\n",
       "  <thead>\n",
       "    <tr style=\"text-align: right;\">\n",
       "      <th></th>\n",
       "      <th>Fire Trucks</th>\n",
       "      <th>Firefighting Personnel</th>\n",
       "    </tr>\n",
       "  </thead>\n",
       "  <tbody>\n",
       "    <tr>\n",
       "      <th>0</th>\n",
       "      <td>2.478908</td>\n",
       "      <td>5.838980</td>\n",
       "    </tr>\n",
       "    <tr>\n",
       "      <th>1</th>\n",
       "      <td>2.222644</td>\n",
       "      <td>5.834997</td>\n",
       "    </tr>\n",
       "    <tr>\n",
       "      <th>2</th>\n",
       "      <td>7.123608</td>\n",
       "      <td>23.592928</td>\n",
       "    </tr>\n",
       "    <tr>\n",
       "      <th>3</th>\n",
       "      <td>2.804055</td>\n",
       "      <td>8.998922</td>\n",
       "    </tr>\n",
       "    <tr>\n",
       "      <th>4</th>\n",
       "      <td>3.759310</td>\n",
       "      <td>8.917629</td>\n",
       "    </tr>\n",
       "    <tr>\n",
       "      <th>...</th>\n",
       "      <td>...</td>\n",
       "      <td>...</td>\n",
       "    </tr>\n",
       "    <tr>\n",
       "      <th>33692</th>\n",
       "      <td>1.826461</td>\n",
       "      <td>4.016303</td>\n",
       "    </tr>\n",
       "    <tr>\n",
       "      <th>33693</th>\n",
       "      <td>1.152497</td>\n",
       "      <td>2.802924</td>\n",
       "    </tr>\n",
       "    <tr>\n",
       "      <th>33694</th>\n",
       "      <td>1.918053</td>\n",
       "      <td>4.345179</td>\n",
       "    </tr>\n",
       "    <tr>\n",
       "      <th>33695</th>\n",
       "      <td>2.751972</td>\n",
       "      <td>6.107438</td>\n",
       "    </tr>\n",
       "    <tr>\n",
       "      <th>33696</th>\n",
       "      <td>1.673660</td>\n",
       "      <td>3.326287</td>\n",
       "    </tr>\n",
       "  </tbody>\n",
       "</table>\n",
       "<p>33697 rows × 2 columns</p>\n",
       "</div>"
      ],
      "text/plain": [
       "       Fire Trucks  Firefighting Personnel\n",
       "0         2.478908                5.838980\n",
       "1         2.222644                5.834997\n",
       "2         7.123608               23.592928\n",
       "3         2.804055                8.998922\n",
       "4         3.759310                8.917629\n",
       "...            ...                     ...\n",
       "33692     1.826461                4.016303\n",
       "33693     1.152497                2.802924\n",
       "33694     1.918053                4.345179\n",
       "33695     2.751972                6.107438\n",
       "33696     1.673660                3.326287\n",
       "\n",
       "[33697 rows x 2 columns]"
      ]
     },
     "execution_count": 15,
     "metadata": {},
     "output_type": "execute_result"
    }
   ],
   "source": [
    "# fit model with best parameters\n",
    "best_params = random_search.best_params_\n",
    "best_params['max_depth'] = int(best_params['max_depth'])\n",
    "best_params['n_estimators'] = int(best_params['n_estimators'])\n",
    "\n",
    "best_model = XGBRegressor(\n",
    "\tmax_depth=int(best_params['max_depth']),\n",
    "\tn_estimators=int(best_params['n_estimators']),\n",
    "\tmin_child_weight=best_params['min_child_weight'],\n",
    "\tlearning_rate=best_params['learning_rate'],\n",
    "\tsubsample=best_params['subsample'],\n",
    "\tcolsample_bytree=best_params['colsample_bytree'],\n",
    "\tgamma=best_params['gamma'],\n",
    "\treg_alpha=best_params['reg_alpha'],\n",
    "\treg_lambda=best_params['reg_lambda'],\n",
    "\tobjective='reg:squarederror',\n",
    "\tverbosity=0\n",
    ")\n",
    "best_model.fit(X_train, y_train[['Fire Trucks', 'Firefighting Personnel']], verbose=False)\n",
    "y_pred_best = best_model.predict(X_test)\n",
    "y_pred_best = pd.DataFrame(y_pred_best, columns=['Fire Trucks', 'Firefighting Personnel'])\n",
    "y_pred_best"
   ]
  },
  {
   "cell_type": "code",
   "execution_count": 16,
   "id": "69402baf",
   "metadata": {},
   "outputs": [],
   "source": [
    "# round the predictions\n",
    "y_pred_best_round = y_pred_best.round(0).astype(int)"
   ]
  },
  {
   "cell_type": "code",
   "execution_count": 17,
   "id": "71d6e3da",
   "metadata": {},
   "outputs": [
    {
     "data": {
      "text/html": [
       "<div>\n",
       "<style scoped>\n",
       "    .dataframe tbody tr th:only-of-type {\n",
       "        vertical-align: middle;\n",
       "    }\n",
       "\n",
       "    .dataframe tbody tr th {\n",
       "        vertical-align: top;\n",
       "    }\n",
       "\n",
       "    .dataframe thead th {\n",
       "        text-align: right;\n",
       "    }\n",
       "</style>\n",
       "<table border=\"1\" class=\"dataframe\">\n",
       "  <thead>\n",
       "    <tr style=\"text-align: right;\">\n",
       "      <th></th>\n",
       "      <th>Fire Trucks</th>\n",
       "      <th>Firefighting Personnel</th>\n",
       "    </tr>\n",
       "  </thead>\n",
       "  <tbody>\n",
       "    <tr>\n",
       "      <th>0</th>\n",
       "      <td>2</td>\n",
       "      <td>6</td>\n",
       "    </tr>\n",
       "    <tr>\n",
       "      <th>1</th>\n",
       "      <td>2</td>\n",
       "      <td>6</td>\n",
       "    </tr>\n",
       "    <tr>\n",
       "      <th>2</th>\n",
       "      <td>7</td>\n",
       "      <td>24</td>\n",
       "    </tr>\n",
       "    <tr>\n",
       "      <th>3</th>\n",
       "      <td>3</td>\n",
       "      <td>9</td>\n",
       "    </tr>\n",
       "    <tr>\n",
       "      <th>4</th>\n",
       "      <td>4</td>\n",
       "      <td>9</td>\n",
       "    </tr>\n",
       "    <tr>\n",
       "      <th>...</th>\n",
       "      <td>...</td>\n",
       "      <td>...</td>\n",
       "    </tr>\n",
       "    <tr>\n",
       "      <th>33692</th>\n",
       "      <td>2</td>\n",
       "      <td>4</td>\n",
       "    </tr>\n",
       "    <tr>\n",
       "      <th>33693</th>\n",
       "      <td>1</td>\n",
       "      <td>3</td>\n",
       "    </tr>\n",
       "    <tr>\n",
       "      <th>33694</th>\n",
       "      <td>2</td>\n",
       "      <td>4</td>\n",
       "    </tr>\n",
       "    <tr>\n",
       "      <th>33695</th>\n",
       "      <td>3</td>\n",
       "      <td>6</td>\n",
       "    </tr>\n",
       "    <tr>\n",
       "      <th>33696</th>\n",
       "      <td>2</td>\n",
       "      <td>3</td>\n",
       "    </tr>\n",
       "  </tbody>\n",
       "</table>\n",
       "<p>33697 rows × 2 columns</p>\n",
       "</div>"
      ],
      "text/plain": [
       "       Fire Trucks  Firefighting Personnel\n",
       "0                2                       6\n",
       "1                2                       6\n",
       "2                7                      24\n",
       "3                3                       9\n",
       "4                4                       9\n",
       "...            ...                     ...\n",
       "33692            2                       4\n",
       "33693            1                       3\n",
       "33694            2                       4\n",
       "33695            3                       6\n",
       "33696            2                       3\n",
       "\n",
       "[33697 rows x 2 columns]"
      ]
     },
     "execution_count": 17,
     "metadata": {},
     "output_type": "execute_result"
    }
   ],
   "source": [
    "# output\n",
    "output_forecast = y_pred_best_round\n",
    "output_forecast"
   ]
  },
  {
   "cell_type": "markdown",
   "id": "ce556a22",
   "metadata": {},
   "source": [
    "## RESULTS and CONCLUSIONS ##\n",
    "\n",
    "Linear Regression error: 14.929\n",
    "\n",
    "Ridge Regression error: 14.929\n",
    "\n",
    "Random Forest error: 14.782\n",
    "\n",
    "Default XGBoost error: 14.484\n",
    "\n",
    "Tuned XGBoost error: 10.083\n",
    "\n",
    "\n",
    "The results above show that XGBoost model with well-tuned parameters performs significantly better than the baseline Linear Regression, or other implemented models. Thanks to the Random Search tuning, the performance of the XGBoost has improved by 30%, which is an important increase.\n",
    "\n",
    "The next step in modelling the wildfire resources data could be implementing and fitting a neural network. Due to time limitations, in this notebook we have focused solely on XGBoost."
   ]
  }
 ],
 "metadata": {
  "kernelspec": {
   "display_name": "fire-analytics",
   "language": "python",
   "name": "python3"
  },
  "language_info": {
   "codemirror_mode": {
    "name": "ipython",
    "version": 3
   },
   "file_extension": ".py",
   "mimetype": "text/x-python",
   "name": "python",
   "nbconvert_exporter": "python",
   "pygments_lexer": "ipython3",
   "version": "3.13.2"
  }
 },
 "nbformat": 4,
 "nbformat_minor": 5
}
