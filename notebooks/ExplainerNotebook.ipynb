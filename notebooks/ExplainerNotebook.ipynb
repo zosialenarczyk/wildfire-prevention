{
 "cells": [
  {
   "cell_type": "markdown",
   "id": "5d71d532",
   "metadata": {},
   "source": [
    "# Introduction"
   ]
  },
  {
   "cell_type": "markdown",
   "id": "04ead243",
   "metadata": {},
   "source": [
    "This notebook will act as a an overview for the whole solutions. There is multiple notebooks, that has it owns introductions and conclusions but this will try to give a high level overview over datasources,API's and models that is used in the project. \n",
    "\n",
    "To be noted is that our main theory from class/lectures is \"ensemble learning\" since we have two of our main models being XGboost.  "
   ]
  },
  {
   "cell_type": "markdown",
   "id": "da9b8ac9",
   "metadata": {},
   "source": [
    "**Students part of this project**: \n",
    "\n",
    "- s200513\n",
    "- s242916\n",
    "- s243204\n",
    "- s243216\n",
    "- s243253"
   ]
  },
  {
   "cell_type": "markdown",
   "id": "5c24a336",
   "metadata": {},
   "source": [
    "## Explain solution and its interconnections"
   ]
  },
  {
   "cell_type": "markdown",
   "id": "ad48af5b",
   "metadata": {},
   "source": [
    "###  Solution Design & Interconnections\n",
    "\n",
    "Our solution integrates three core models and six collaborating agents to form an AI-powered wildfire prevention system:\n",
    "\n",
    "####  Core Models\n",
    "- **Fire Prediction (XGBoost):** Predicts daily wildfire risk per region using 25 years of weather data. Outputs binary labels and probability scores.\n",
    "- **Fire Spread:** Simulates wildfire expansion based on terrain and vegetation.\n",
    "- **Resource Estimation (XGBoost):** Translates fire severity into resource needs.\n",
    "\n",
    "####  Multi-Agent System\n",
    "Agents simulate real-world emergency response roles and work together via FastAPI:\n",
    "\n",
    "- **Evacuation Coordinator**: Ranks towns for evacuation.\n",
    "- **Resource Planner**: Allocates firefighting units.\n",
    "- **Tourism Safety Advisor**: Issues safety advice for tourist zones.\n",
    "- **Public Communication Manager**: Generates the final public alert.\n",
    "  \n",
    "All agents reason using structured prompts and GPT-4.1-nano, embedded in a **Streamlit interface** for real-time use.\n",
    "\n",
    "####  Interconnections\n",
    "- **Models → Agents:** Fire prediction and severity outputs feed directly into agent decisions.\n",
    "- **Agent Collaboration:** Agents pass outputs to each other, enabling coordinated evacuation, resource planning, and communication.\n",
    "- **User Interface:** Users select region and date; the system generates a public-facing safety alert with AI-driven recommendations.\n",
    "\n",
    "Together, this design links data, prediction, and decision-making into one coordinated pipeline for wildfire response.\n",
    "\n",
    "\n"
   ]
  },
  {
   "cell_type": "markdown",
   "id": "430b47b7",
   "metadata": {},
   "source": [
    "![Wildfire System](../data/raw/Advanced%20business%20analytics.png)"
   ]
  },
  {
   "cell_type": "markdown",
   "id": "92fdc455",
   "metadata": {},
   "source": [
    "# Datasources"
   ]
  },
  {
   "cell_type": "markdown",
   "id": "6e43f2e7",
   "metadata": {},
   "source": [
    "## CrewAI"
   ]
  },
  {
   "cell_type": "markdown",
   "id": "512c6bc7",
   "metadata": {},
   "source": [
    "- The multi-agent framework serves as a decision layer, it interprets and acts on predictions. Its purpose is to demonstrate how LLM-powered agents can assist decision-makers during wildfires by simulating role-based reasoning, ensuring public safety communication, and enabling better resource planning. It connects technical outputs (models, forecasts) to societal-level actions, directly supporting the project’s goal of AI for the Betterment of Society.\n",
    "\n"
   ]
  },
  {
   "cell_type": "markdown",
   "id": "eb0d061c",
   "metadata": {},
   "source": [
    "## GADM"
   ]
  },
  {
   "cell_type": "markdown",
   "id": "792a56c9",
   "metadata": {},
   "source": [
    "A GADM dataset defining regional boundaries for Greece. In this case highest level, so 8 regions\n",
    "\n",
    "https://gadm.org/download_country.html"
   ]
  },
  {
   "cell_type": "markdown",
   "id": "633968b0",
   "metadata": {},
   "source": [
    "## Modis"
   ]
  },
  {
   "cell_type": "markdown",
   "id": "cf1c359b",
   "metadata": {},
   "source": [
    "A MODIS satellite fire dataset containing wildfire detection data.\n",
    "\n",
    "https://modis.gsfc.nasa.gov/"
   ]
  },
  {
   "cell_type": "markdown",
   "id": "be768882",
   "metadata": {},
   "source": [
    "## Hellenic Fire\n",
    "\n",
    "Official website of the Fire Department in Greece with access to open data.\n",
    "\n",
    "https://www.fireservice.gr/en_US/synola-dedomenon "
   ]
  },
  {
   "cell_type": "markdown",
   "id": "9aee3d48",
   "metadata": {},
   "source": [
    "## Next Day Wildfire Spread\n",
    "\n",
    "A Data Set to Predict Wildfire Spreading from Remote-Sensing Data created by IEEE (Institute of Electrical and Electronics Engineers)\n",
    "\n",
    "https://www.kaggle.com/datasets/fantineh/next-day-wildfire-spread"
   ]
  },
  {
   "cell_type": "markdown",
   "id": "135fe6d3",
   "metadata": {},
   "source": [
    "## API's "
   ]
  },
  {
   "cell_type": "markdown",
   "id": "5c1e1256",
   "metadata": {},
   "source": [
    "### OpenAI"
   ]
  },
  {
   "cell_type": "markdown",
   "id": "7b7e4ee4",
   "metadata": {},
   "source": [
    "- Our Agent system uses the OpenAI API to access the GPT-4.1-nano model, which powers all four agents in the multi-agent decision layer. Each agent sends a prompt to the model and receives a natural language response that simulates role-specific reasoning. Currently, weather data is simulated internally using a predefined dictionary. In future improvements, we could connect additional APIs, such as Weather , Geospatial APIs. \n",
    "\n"
   ]
  },
  {
   "cell_type": "markdown",
   "id": "56064924",
   "metadata": {},
   "source": [
    "### Meteostat"
   ]
  },
  {
   "cell_type": "markdown",
   "id": "2ca3b9fe",
   "metadata": {},
   "source": [
    "- daily weather observations for thousands of global weather stations. In this case for Greek Regions\n",
    "\n",
    "https://dev.meteostat.net/api/stations/meta.html#endpoint"
   ]
  },
  {
   "cell_type": "markdown",
   "id": "923190e7",
   "metadata": {},
   "source": [
    "### Open-Elevation"
   ]
  },
  {
   "cell_type": "markdown",
   "id": "f011564a",
   "metadata": {},
   "source": [
    "- Open-Elevation API (https://api.open-elevation.com/api/v1/lookup). Gets elevation points in greece"
   ]
  },
  {
   "cell_type": "markdown",
   "id": "c3cc105e",
   "metadata": {},
   "source": [
    "### WeatherAPI"
   ]
  },
  {
   "cell_type": "markdown",
   "id": "e8d17376",
   "metadata": {},
   "source": [
    "- WeatherAPI provides real-time and forecasted weather data. (https://www.weatherapi.com/)"
   ]
  },
  {
   "cell_type": "markdown",
   "id": "0e81b72c",
   "metadata": {},
   "source": [
    "### Google Earth Engine API"
   ]
  },
  {
   "cell_type": "markdown",
   "id": "974cb374",
   "metadata": {},
   "source": [
    "- Earthengine-api provides satellite pictures of environmental parameters. (https://developers.google.com/earth-engine)"
   ]
  },
  {
   "cell_type": "markdown",
   "id": "0eda1113",
   "metadata": {},
   "source": [
    "# Models used in the project "
   ]
  },
  {
   "cell_type": "markdown",
   "id": "a003b262",
   "metadata": {},
   "source": [
    "## Wildfire prediction model - XGboost"
   ]
  },
  {
   "cell_type": "markdown",
   "id": "716ce4a3",
   "metadata": {},
   "source": [
    "The wildfire prediction model is a binary classifier built using XGBoost, trained to estimate whether a wildfire will occur in a given region on a specific day. It uses historical weather and terrain data from 2000 to 2024 as input, including temperature, wind speed, precipitation, and elevation features. The model outputs both a probability score and a binary fire alert. It was optimized using F1 score due to class imbalance and interpreted using SHAP to identify the most influential features driving predictions."
   ]
  },
  {
   "cell_type": "markdown",
   "id": "6eb0a2f7",
   "metadata": {},
   "source": [
    "## Wildfire spread prediction model - CNN"
   ]
  },
  {
   "cell_type": "markdown",
   "id": "3aff75eb",
   "metadata": {},
   "source": [
    "The model is based on the research paper published by IEEE (https://ieeexplore.ieee.org/abstract/document/9840400) and is trained to generate a binary image predicting the fire's extent for the following day. The training process relies on several input parameters: the binary image of the current day's fire, wind speed and direction, vegetation, population density, temperature, specific humidity, precipitation, and elevation. Based on the predicted output image, we also assess the severity of the wildfire."
   ]
  },
  {
   "cell_type": "markdown",
   "id": "08903e3e",
   "metadata": {},
   "source": [
    "## Resources prediction model - XGBoost\n",
    "\n",
    "This model is meant to take as an input the level of severity assessed in the firespread model and region and date of fire predicted in the wildfire prediction model. The resources prediction model was trained based on historical data from years 2013-2024. The model is a XGBRegressor with a root mean square error as the evaluation metric. The output of this model is number of fire vehicles and number of firefighters predicted to extinguish the wildfire."
   ]
  },
  {
   "cell_type": "markdown",
   "id": "c11b8d68",
   "metadata": {},
   "source": [
    "# Conclusions"
   ]
  },
  {
   "cell_type": "markdown",
   "id": "c91974e3",
   "metadata": {},
   "source": [
    "To sum up, we have created three seperate models delivering different predictions, several files handling and accessing the necessary data and a framework with defined agents and a designated UI. The models have compatible inputs and outputs as they share the information between themselves. The Meteostat API and the wildfire prediction model successfully work together and the data preprocessing files implement extensive procedures to extract all the needed information. The CrewAI-based framework effectively sets up the structure of the communication between agents. These implementations are the core elements necessary to build a multi-agent AI system.\n",
    "\n",
    "As of now the models are not connected to the multi-agent framework, and the LLM outcome is based on the dummy data. The integration of the individual elements is not complete and is considered as the most important goal of the further development of the project.\n",
    "\n",
    "What is more, the future development of the project could be focused on further improving the performance of the models, reaching out to access resources live data and creating new agents with custimized functions depending on the demand."
   ]
  },
  {
   "cell_type": "markdown",
   "id": "78e05cbe",
   "metadata": {},
   "source": [
    "# Contribution"
   ]
  },
  {
   "cell_type": "markdown",
   "id": "6d383144",
   "metadata": {},
   "source": [
    "## Students: "
   ]
  },
  {
   "cell_type": "markdown",
   "id": "06092153",
   "metadata": {},
   "source": [
    "**Student number:** s243204 \n",
    "**Notebook:** `dynamic_weather_forecast.ipynb`"
   ]
  },
  {
   "cell_type": "markdown",
   "id": "35cd36ab",
   "metadata": {},
   "source": [
    "Developed a dynamic data pipeline that generates real-time input features for wildfire prediction. Integrated external APIs (WeatherAPI, Meteostat, Open-Elevation) and engineered a function that reconstructs the feature set used by the trained XGBoost model. While the original features were predefined, the work ensured that API-based inputs matched the model’s requirements precisely, enabling accurate and automated wildfire risk predictions."
   ]
  },
  {
   "cell_type": "markdown",
   "id": "76f3a5c7",
   "metadata": {},
   "source": [
    "**Student number:** s200513 \n",
    "**Notebook:** `XGboost_Predict_wildfire.ipynb`, `DataMerging.ipynb`, `ExplainerNotebook.ipynb`"
   ]
  },
  {
   "cell_type": "markdown",
   "id": "0385cc74",
   "metadata": {},
   "source": [
    " I was responsible for the development of the wildfire risk classification model using XGBoost, including data preprocessing, model training, hyperparameter tuning, and evaluation.  Additionally, I prepared and cleaned regional weather datasets, handled missing data imputation across Greek regions"
   ]
  },
  {
   "cell_type": "markdown",
   "id": "b5af2b6e",
   "metadata": {},
   "source": [
    "**Student number:** s243253 \n",
    "**Notebook:** `collect_environment_parameters.py`,`firespread_cnn.py`"
   ]
  },
  {
   "cell_type": "markdown",
   "id": "4249b12c",
   "metadata": {},
   "source": [
    "Developed a predictive pipeline to estimate the extent and severity of wildfires one day in advance.\n",
    "I developed, trained, tested, and fine-tuned a Convolutional Neural Network (CNN) model to generate binary maps forecasting wildfire spread for the following day. To support the model I collected environmental data from external API (Google Earth Engine) based on a specific date and geographic location. This data was then processed and fed into the model to produce a prediction."
   ]
  },
  {
   "cell_type": "markdown",
   "id": "e8afc94f",
   "metadata": {},
   "source": [
    "**Student number:** s243216 \n",
    "**Notebook:** `Multi_Agent_System.ipynb`\n",
    "\n",
    "My main contribution focused on designing and implementing the multi-agent system that powers the decision-making layer of our solution. I defined the roles and interactions of the agents using the CrewAI framework, each simulating a key emergency response function. I also integrated GPT-4.1-nano into the agents workflows through structured prompts to enable consistent, role-specific reasoning. To make the system accessible, I built an interactive Streamlit UI that lets users select a region and date, generating a clear, public-facing safety alert.\n",
    "\n"
   ]
  },
  {
   "cell_type": "markdown",
   "id": "b8e2f019",
   "metadata": {},
   "source": [
    "**Student number:** s242916\n",
    "**Notebooks:** `resource_data_preprocessing.ipynb`, `resources_modelling.ipynb` + executive summary\n",
    "\n",
    "I was responsible for the resources model. First, I have researched the data, translated and cleaned it. I focused on pre-processing the data having in mind the future model as well as other models. Then, I went onto modelling process with exploratory data analysis and implementing, testing and evaluating XGBoost model with parameters tuning. I was also actively taking part in the process of defining the scope and logic of our project and creating the executive summary.\n",
    "\n"
   ]
  }
 ],
 "metadata": {
  "language_info": {
   "name": "python"
  }
 },
 "nbformat": 4,
 "nbformat_minor": 5
}
