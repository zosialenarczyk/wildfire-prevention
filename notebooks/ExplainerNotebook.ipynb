{
 "cells": [
  {
   "cell_type": "markdown",
   "id": "5d71d532",
   "metadata": {},
   "source": [
    "# Introduction"
   ]
  },
  {
   "cell_type": "markdown",
   "id": "5c24a336",
   "metadata": {},
   "source": [
    "## Explain solution and its interconnections"
   ]
  },
  {
   "cell_type": "markdown",
   "id": "ad48af5b",
   "metadata": {},
   "source": [
    "###  Solution Design & Interconnections\n",
    "\n",
    "Our solution integrates three core models and six collaborating agents to form an AI-powered wildfire prevention system:\n",
    "\n",
    "####  Core Models\n",
    "- **Fire Prediction (XGBoost):** Predicts daily wildfire risk per region using 25 years of weather data. Outputs binary labels and probability scores.\n",
    "- **Fire Spread:** Simulates wildfire expansion based on terrain and vegetation.\n",
    "- **Resource Estimation (XGBoost):** Translates fire severity into resource needs.\n",
    "\n",
    "####  Multi-Agent System\n",
    "Agents simulate real-world emergency response roles and work together via FastAPI:\n",
    "\n",
    "- **Evacuation Coordinator**: Ranks towns for evacuation.\n",
    "- **Resource Planner**: Allocates firefighting units.\n",
    "- **Tourism Safety Advisor**: Issues safety advice for tourist zones.\n",
    "- **Public Communication Manager**: Generates the final public alert.\n",
    "  \n",
    "All agents reason using structured prompts and GPT-4.1-nano, embedded in a **Streamlit interface** for real-time use.\n",
    "\n",
    "####  Interconnections\n",
    "- **Models → Agents:** Fire prediction and severity outputs feed directly into agent decisions.\n",
    "- **Agent Collaboration:** Agents pass outputs to each other, enabling coordinated evacuation, resource planning, and communication.\n",
    "- **User Interface:** Users select region and date; the system generates a public-facing safety alert with AI-driven recommendations.\n",
    "\n",
    "Together, this design links data, prediction, and decision-making into one coordinated pipeline for wildfire response.\n",
    "\n",
    "\n"
   ]
  },
  {
   "cell_type": "markdown",
   "id": "92fdc455",
   "metadata": {},
   "source": [
    "# Datasources"
   ]
  },
  {
   "cell_type": "markdown",
   "id": "6e43f2e7",
   "metadata": {},
   "source": [
    "## CrewAI"
   ]
  },
  {
   "cell_type": "markdown",
   "id": "512c6bc7",
   "metadata": {},
   "source": [
    "- The multi-agent framework serves as a decision layer, it interprets and acts on predictions. Its purpose is to demonstrate how LLM-powered agents can assist decision-makers during wildfires by simulating role-based reasoning, ensuring public safety communication, and enabling better resource planning. It connects technical outputs (models, forecasts) to societal-level actions, directly supporting the project’s goal of AI for the Betterment of Society.\n",
    "\n"
   ]
  },
  {
   "cell_type": "markdown",
   "id": "eb0d061c",
   "metadata": {},
   "source": [
    "## GADM"
   ]
  },
  {
   "cell_type": "markdown",
   "id": "792a56c9",
   "metadata": {},
   "source": [
    "A GADM dataset defining regional boundaries for Greece. In this case highest level, so 8 regions\n",
    "\n",
    "https://gadm.org/download_country.html"
   ]
  },
  {
   "cell_type": "markdown",
   "id": "633968b0",
   "metadata": {},
   "source": [
    "## Modis"
   ]
  },
  {
   "cell_type": "markdown",
   "id": "cf1c359b",
   "metadata": {},
   "source": [
    "A MODIS satellite fire dataset containing wildfire detection data.\n",
    "\n",
    "https://modis.gsfc.nasa.gov/"
   ]
  },
  {
   "cell_type": "markdown",
   "id": "135fe6d3",
   "metadata": {},
   "source": [
    "## API's "
   ]
  },
  {
   "cell_type": "markdown",
   "id": "5c1e1256",
   "metadata": {},
   "source": [
    "### OpenAI"
   ]
  },
  {
   "cell_type": "markdown",
   "id": "7b7e4ee4",
   "metadata": {},
   "source": [
    "- Our Agent system uses the OpenAI API to access the GPT-4.1-nano model, which powers all four agents in the multi-agent decision layer. Each agent sends a prompt to the model and receives a natural language response that simulates role-specific reasoning. Currently, weather data is simulated internally using a predefined dictionary. In future improvements, we could connect additional APIs, such as Weather , Geospatial APIs. \n",
    "\n"
   ]
  },
  {
   "cell_type": "markdown",
   "id": "56064924",
   "metadata": {},
   "source": [
    "### Meteostat"
   ]
  },
  {
   "cell_type": "markdown",
   "id": "2ca3b9fe",
   "metadata": {},
   "source": [
    "- daily weather observations for thousands of global weather stations. In this case for Greek Regions\n",
    "\n",
    "https://dev.meteostat.net/api/stations/meta.html#endpoint"
   ]
  },
  {
   "cell_type": "markdown",
   "id": "923190e7",
   "metadata": {},
   "source": [
    "### Open-Elevation"
   ]
  },
  {
   "cell_type": "markdown",
   "id": "f011564a",
   "metadata": {},
   "source": [
    "- Open-Elevation API (https://api.open-elevation.com/api/v1/lookup). Gets elevation points in greece"
   ]
  },
  {
   "cell_type": "markdown",
   "id": "0eda1113",
   "metadata": {},
   "source": [
    "# Model used in the project "
   ]
  },
  {
   "cell_type": "markdown",
   "id": "a003b262",
   "metadata": {},
   "source": [
    "## Wildfire prediction model - XGboost"
   ]
  },
  {
   "cell_type": "markdown",
   "id": "716ce4a3",
   "metadata": {},
   "source": []
  },
  {
   "cell_type": "markdown",
   "id": "c11b8d68",
   "metadata": {},
   "source": [
    "# Conclusion"
   ]
  },
  {
   "cell_type": "markdown",
   "id": "c91974e3",
   "metadata": {},
   "source": []
  }
 ],
 "metadata": {
  "language_info": {
   "name": "python"
  }
 },
 "nbformat": 4,
 "nbformat_minor": 5
}
