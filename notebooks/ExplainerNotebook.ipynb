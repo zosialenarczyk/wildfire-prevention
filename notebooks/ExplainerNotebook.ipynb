{
 "cells": [
  {
   "cell_type": "markdown",
   "id": "5d71d532",
   "metadata": {},
   "source": [
    "# Introduction"
   ]
  },
  {
   "cell_type": "markdown",
   "id": "5c24a336",
   "metadata": {},
   "source": [
    "## Explain solution and its interconnections"
   ]
  },
  {
   "cell_type": "markdown",
   "id": "92fdc455",
   "metadata": {},
   "source": [
    "# Datasources"
   ]
  },
  {
   "cell_type": "markdown",
   "id": "135fe6d3",
   "metadata": {},
   "source": [
    "## API's "
   ]
  },
  {
   "cell_type": "markdown",
   "id": "0eda1113",
   "metadata": {},
   "source": [
    "# Model used in the project "
   ]
  },
  {
   "cell_type": "markdown",
   "id": "2c88a510",
   "metadata": {},
   "source": []
  }
 ],
 "metadata": {
  "language_info": {
   "name": "python"
  }
 },
 "nbformat": 4,
 "nbformat_minor": 5
}
